{
  "nbformat": 4,
  "nbformat_minor": 0,
  "metadata": {
    "colab": {
      "name": "Comp551_Project2.ipynb",
      "provenance": [],
      "include_colab_link": true
    },
    "kernelspec": {
      "name": "python3",
      "display_name": "Python 3"
    }
  },
  "cells": [
    {
      "cell_type": "markdown",
      "metadata": {
        "id": "view-in-github",
        "colab_type": "text"
      },
      "source": [
        "<a href=\"https://colab.research.google.com/github/mahroo12/COMP-551-Assignment-2/blob/main/Comp551_Project2.ipynb\" target=\"_parent\"><img src=\"https://colab.research.google.com/assets/colab-badge.svg\" alt=\"Open In Colab\"/></a>"
      ]
    },
    {
      "cell_type": "markdown",
      "metadata": {
        "id": "mTUPugYI0uJz"
      },
      "source": [
        "**Import necessary Libraries**"
      ]
    },
    {
      "cell_type": "code",
      "metadata": {
        "id": "6jsO1TzMWzs5"
      },
      "source": [
        "import numpy as np\n",
        "import pandas as pd\n",
        "%matplotlib inline\n",
        "import matplotlib.pyplot as plt\n",
        "from IPython.core.debugger import set_trace\n",
        "import warnings\n",
        "warnings.filterwarnings('ignore')"
      ],
      "execution_count": null,
      "outputs": []
    },
    {
      "cell_type": "markdown",
      "metadata": {
        "id": "a4J6_p3mV6Y4"
      },
      "source": [
        "**Part 1: Read in and Process Data**\n",
        "\n",
        "\n",
        "1.   Import Digits Dataset\n",
        "[digits_datatest](https://scikit-learn.org/stable/modules/generated/sklearn.datasets.load_digits.html)\n",
        "2.   Import Iris Dataset\n",
        "[iris_dataset](https://scikit-learn.org/stable/modules/generated/sklearn.datasets.load_iris.html)\n",
        "\n",
        "\n",
        "\n"
      ]
    },
    {
      "cell_type": "code",
      "metadata": {
        "id": "9QgIStoEVxy_",
        "outputId": "cce391b2-a0d1-4518-d616-22f509d7c815",
        "colab": {
          "base_uri": "https://localhost:8080/",
          "height": 316
        }
      },
      "source": [
        "# Import digits dataset\n",
        "from sklearn.datasets import load_digits\n",
        "digits = load_digits()\n",
        "print(digits.data.shape) #1797 samples, 64 features each\n",
        "plt.imshow(digits.images[0]) #show digit \n",
        "\n",
        "# Additional OpenML dataset used in this project is the Iris dataset\n",
        "from sklearn.datasets import load_iris\n",
        "iris = load_iris()\n",
        "print(iris.data.shape) #150 samples, 4 features each\n",
        "data.target[[10, 25, 50]] #example showing data\n",
        "list(data.target_names)"
      ],
      "execution_count": null,
      "outputs": [
        {
          "output_type": "stream",
          "text": [
            "(1797, 64)\n",
            "(150, 4)\n"
          ],
          "name": "stdout"
        },
        {
          "output_type": "execute_result",
          "data": {
            "text/plain": [
              "['setosa', 'versicolor', 'virginica']"
            ]
          },
          "metadata": {
            "tags": []
          },
          "execution_count": 7
        },
        {
          "output_type": "display_data",
          "data": {
            "image/png": "[encoded data removed]",
            "text/plain": [
              "<Figure size 432x288 with 1 Axes>"
            ]
          },
          "metadata": {
            "tags": [],
            "needs_background": "light"
          }
        }
      ]
    },
    {
      "cell_type": "markdown",
      "metadata": {
        "id": "Hh9kYlwJWCAF"
      },
      "source": [
        "**Part 2: Soft Max Regression**\n",
        "\n"
      ]
    },
    {
      "cell_type": "code",
      "metadata": {
        "id": "qpNlGnsi6fwS"
      },
      "source": [
        "##########################################\n",
        "# Gradient Descent w/ Momentum Optimizer #\n",
        "##########################################"
      ],
      "execution_count": null,
      "outputs": []
    },
    {
      "cell_type": "code",
      "metadata": {
        "id": "DPmm9TnbpjVy"
      },
      "source": [
        "class GradientDescent:\n",
        "    \n",
        "    def __init__(self, learning_rate=.001, max_iters=1e4, epsilon=1e-8, record_history=False):\n",
        "        self.learning_rate = learning_rate\n",
        "        self.max_iters = max_iters\n",
        "        self.record_history = record_history\n",
        "        self.epsilon = epsilon\n",
        "        if record_history:\n",
        "            self.w_history = []                 #to store the weight history for visualization\n",
        "            \n",
        "    def run(self, gradient_fn, x, y, w):\n",
        "        grad = np.inf\n",
        "        t = 1\n",
        "        while np.linalg.norm(grad) > self.epsilon and t < self.max_iters:\n",
        "            grad = gradient_fn(x, y, w)               # compute the gradient with present weight\n",
        "            w = w - self.learning_rate * grad         # weight update step\n",
        "            if self.record_history:\n",
        "                self.w_history.append(w)\n",
        "            t += 1\n",
        "        return w\n",
        "\n",
        "\n",
        "    # make this function \n",
        "    def create_mini_batches:\n",
        "      mini_batches = []\n",
        "      return mini_batches\n",
        "\n",
        "    # function to perform mini-batch gradient descent \n",
        "    def gradientDescent(self, X, y, batch_size = 32): \n",
        "      theta = np.zeros((X.shape[1], 1)) \n",
        "      error_list = []\n",
        "      for itr in range(max_iters):\n",
        "        mini_batches = create_mini_batches(X, y, batch_size) \n",
        "        for mini_batch in mini_batches: \n",
        "            X_mini, y_mini = mini_batch \n",
        "            theta = theta - learning_rate * gradient(X_mini, y_mini, theta) \n",
        "            error_list.append(cost(X_mini, y_mini, theta)) \n",
        "  \n",
        "      return theta, error_list "
      ],
      "execution_count": null,
      "outputs": []
    },
    {
      "cell_type": "markdown",
      "metadata": {
        "id": "cPXupe0tOdob"
      },
      "source": [
        "**Multi-class Logistic Regression**\n",
        "\n",
        "$\\sigma(z) = \\frac{1}{1+e^{-z}}$ is the logistic function, called sigmoid function."
      ]
    },
    {
      "cell_type": "code",
      "metadata": {
        "id": "NyAOM2qQumHF"
      },
      "source": [
        "##############################\n",
        "# Soft Max Regression Model #\n",
        "##############################\n",
        "class SoftMaxRegression:\n",
        "  # initialize model and add bias / intercept\n",
        "  def __init__(self, add_bias=True):\n",
        "    self.add_bias = add_bias\n",
        "    pass\n",
        "\n",
        "  # softmax function takes an N-dimensional vector X of real numbers\n",
        "  # transforms into probability distribution\n",
        "  # normalize values in vector to make function more stable at extreme values\n",
        "  # makes values non-negative and sum to 1 \n",
        "  def softmax(X):\n",
        "    exps = np.exp(X - np.max(X))\n",
        "    norms = nd.sum(exps)\n",
        "    return exps / norms\n",
        "\n",
        "  # cross entropy loss\n",
        "  def crossEntropy(yhat, y):\n",
        "    return -nd.sum(y*nd.log(yhat+1e-6))\n",
        "\n",
        "  # for continuous classificaiton values\n",
        "  def sigmoid(z):\n",
        "    return 1 / (1 + np.exp(-z))\n"
      ],
      "execution_count": null,
      "outputs": []
    },
    {
      "cell_type": "code",
      "metadata": {
        "id": "Oyorh3r9Irmg"
      },
      "source": [
        ""
      ],
      "execution_count": null,
      "outputs": []
    },
    {
      "cell_type": "markdown",
      "metadata": {
        "id": "cF4iociWvEzB"
      },
      "source": [
        "**Train Model**"
      ]
    },
    {
      "cell_type": "code",
      "metadata": {
        "id": "6vVJ2mBOWODT"
      },
      "source": [
        ""
      ],
      "execution_count": null,
      "outputs": []
    },
    {
      "cell_type": "markdown",
      "metadata": {
        "id": "D8fZFNKwWGid"
      },
      "source": [
        "**Part 3: Testing of Soft Max**"
      ]
    },
    {
      "cell_type": "code",
      "metadata": {
        "id": "uC4M5c2TWQ0r"
      },
      "source": [
        "#"
      ],
      "execution_count": null,
      "outputs": []
    },
    {
      "cell_type": "markdown",
      "metadata": {
        "id": "tvOxYqLUWJia"
      },
      "source": [
        "**Part 4: Alternative Algorithm**"
      ]
    },
    {
      "cell_type": "code",
      "metadata": {
        "id": "6eVYGzoZWRvB"
      },
      "source": [
        "#"
      ],
      "execution_count": null,
      "outputs": []
    }
  ]
}